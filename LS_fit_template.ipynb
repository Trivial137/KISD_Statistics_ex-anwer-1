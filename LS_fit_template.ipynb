{
  "cells": [
    {
      "cell_type": "markdown",
      "metadata": {
        "colab_type": "text",
        "id": "view-in-github"
      },
      "source": [
        "<a href=\"https://colab.research.google.com/github/bruckman/KISD_Statistics_ex-1/blob/master/LS_fit_template.ipynb\" target=\"_parent\"><img src=\"https://colab.research.google.com/assets/colab-badge.svg\" alt=\"Open In Colab\"/></a>"
      ]
    },
    {
      "cell_type": "code",
      "execution_count": null,
      "metadata": {
        "id": "a9a7CKp5yx_b"
      },
      "outputs": [],
      "source": [
        "import numpy as np\n",
        "from matplotlib import pyplot as plt\n",
        "from matplotlib import collections as collections\n",
        "from scipy import stats\n",
        "from scipy import special\n",
        "from scipy import integrate\n",
        "from scipy import optimize\n",
        "\n",
        "#  Template for the LS fit to data"
      ]
    },
    {
      "cell_type": "code",
      "execution_count": 24,
      "metadata": {
        "id": "kdZUyAgKz6cw"
      },
      "outputs": [],
      "source": [
        "def gauss(x, mu, sigma):\n",
        "    return 1/(np.sqrt(2*np.pi)*sigma) * np.exp(-(x-mu)*(x-mu)/(2*sigma*sigma))\n",
        "\n",
        "def decay(x, tau):\n",
        "    return np.exp(-x/tau) / tau"
      ]
    },
    {
      "cell_type": "code",
      "execution_count": 27,
      "metadata": {
        "id": "U0quQvQ40Sk4"
      },
      "outputs": [],
      "source": [
        "def chi2(mus, hist, bins, xmin=0, xmax=30.0, tau0=5.0, mu0=10.0, sigma0=3.0):\n",
        "    chi2_val = 0.0\n",
        "    n_bins = len(hist)\n",
        "    \n",
        "    for i in range(n_bins):\n",
        "        a = bins[i]\n",
        "        b = bins[i+1]\n",
        "        \n",
        "# Integrate normalized signal PDF over [a, b]\n",
        "        s_int, _ = integrate.quad(lambda x: gauss(x, mu0, sigma0) * scales, a, b)\n",
        "        \n",
        "# Integrate normalized background PDF over [a, b]\n",
        "        b_int, _ = integrate.quad(lambda x: decay(x, tau0) * scaleb, a, b)\n",
        "        expected = mus * s_int + (nhist - mus) * b_int\n",
        "        observed = hist[i]\n",
        "        \n",
        "# Avoid division by zero\n",
        "        if expected <= 0:\n",
        "            expected = 1e-6  \n",
        "        chi2_val += (observed - expected)**2 / expected\n",
        "    return chi2_val"
      ]
    },
    {
      "cell_type": "code",
      "execution_count": 28,
      "metadata": {
        "id": "eqNRusJD01jG"
      },
      "outputs": [],
      "source": [
        "# Define known constants\n",
        "tau = 5.0\n",
        "mu = 10.0\n",
        "sigma = 3.0\n",
        "\n",
        "# Define some auxiliary parameters \n",
        "plow = 0.0\n",
        "phig = 40.0\n",
        "ndistr = 1000\n",
        "\n",
        "# Deafine the histogram\n",
        "nbins=10\n",
        "xrange = 30\n",
        "\n",
        "x = np.linspace(0, xrange, ndistr)\n",
        "\n",
        "# Load the raw data from file:\n",
        "rndy = np.load(\"raw_data_3_tau5.npy\")\n",
        "nhist = len(rndy)"
      ]
    },
    {
      "cell_type": "code",
      "execution_count": null,
      "metadata": {
        "id": "topHKFb007zY"
      },
      "outputs": [
        {
          "name": "stdout",
          "output_type": "stream",
          "text": [
            "integrals =  0.9995709396537192\n",
            "integralb =  0.9975212478233337\n"
          ]
        }
      ],
      "source": [
        "# Find the p.d.f. normalisation factors for the considered interval (0, xrange) \n",
        "integrals = integrate.quad(gauss, 0, xrange, args=(mu, sigma))\n",
        "print('integrals = ', integrals[0])\n",
        "scales = 1/integrals[0]\n",
        "integralb = integrate.quad(decay, 0, xrange, args=(tau,))\n",
        "print('integralb = ', integralb[0])\n",
        "scaleb = 1/integralb[0]\n",
        "\n",
        "# Histogram the raw data\n",
        "hy, binsy = np.histogram(rndy, bins=nbins, range=(0.0, xrange) )"
      ]
    },
    {
      "cell_type": "code",
      "execution_count": 31,
      "metadata": {
        "colab": {
          "base_uri": "https://localhost:8080/"
        },
        "id": "CMRuVgt90_Y_",
        "outputId": "3f7f2f76-afc6-4dfd-9867-c0f38666ce5b"
      },
      "outputs": [
        {
          "name": "stdout",
          "output_type": "stream",
          "text": [
            "extremum found for mus =  17.11409591605853\n"
          ]
        }
      ],
      "source": [
        "# Find the extremum of either logL or chi2\n",
        "in_guess = [0,]\n",
        "minimum = optimize.minimize(chi2, in_guess, args=(hy, binsy ,0.0, xrange, tau, mu, sigma))\n",
        "fitted_mus = minimum.x[0]\n",
        "print('extremum found for mus = ',fitted_mus)"
      ]
    },
    {
      "cell_type": "code",
      "execution_count": 32,
      "metadata": {
        "colab": {
          "base_uri": "https://localhost:8080/"
        },
        "id": "pPdkQGnX1CU_",
        "outputId": "f9e0d2af-c7d9-4d1f-e981-b5fa5e2a4a9a"
      },
      "outputs": [
        {
          "name": "stdout",
          "output_type": "stream",
          "text": [
            "-sigma = 7.384,  +sigma = 7.937\n"
          ]
        }
      ],
      "source": [
        "# Set dummy uncertainties\n",
        "sigma_neg = fitted_mus-10\n",
        "sigma_pos = fitted_mus+10\n",
        "#  Estimate the error:\n",
        "pl = np.linspace(plow, phig, ndistr)\n",
        "ll_array = []\n",
        "for xx in pl:\n",
        "   ll_array.append(chi2(xx, hy, binsy, 0.0, xrange, tau, mu, sigma))\n",
        "\n",
        "# Estimate the error:\n",
        "chi2_min = minimum.fun\n",
        "chi2_target = chi2_min + 1\n",
        "\n",
        "# Find indices where ll_array crosses chi2_target\n",
        "below_target = np.where(np.array(ll_array) <= chi2_target)[0]\n",
        "\n",
        "if len(below_target) == 0:\n",
        "    sigma_neg, sigma_pos = 0, 0\n",
        "else:\n",
        "# Left bound (sigma_neg)\n",
        "    left_idx = below_target[0]\n",
        "    if left_idx > 0:\n",
        "        x0, y0 = pl[left_idx - 1], ll_array[left_idx - 1] - chi2_target\n",
        "        x1, y1 = pl[left_idx], ll_array[left_idx] - chi2_target\n",
        "        t = -y0 / (y1 - y0)\n",
        "        left_bound = x0 + t * (x1 - x0)\n",
        "    else:\n",
        "        left_bound = pl[left_idx]\n",
        "    \n",
        "# Right bound (sigma_pos)\n",
        "    right_idx = below_target[-1]\n",
        "    if right_idx < len(pl) - 1:\n",
        "        x0, y0 = pl[right_idx], ll_array[right_idx] - chi2_target\n",
        "        x1, y1 = pl[right_idx + 1], ll_array[right_idx + 1] - chi2_target\n",
        "        t = -y0 / (y1 - y0)\n",
        "        right_bound = x0 + t * (x1 - x0)\n",
        "    else:\n",
        "        right_bound = pl[right_idx]\n",
        "    \n",
        "    sigma_neg = fitted_mus - left_bound\n",
        "    sigma_pos = right_bound - fitted_mus\n",
        "\n",
        "print(\"-sigma = %2.3f,  +sigma = %2.3f\"%(sigma_neg, sigma_pos))"
      ]
    },
    {
      "cell_type": "code",
      "execution_count": 33,
      "metadata": {
        "colab": {
          "base_uri": "https://localhost:8080/",
          "height": 279
        },
        "id": "DxpC9AEDDlOt",
        "outputId": "9252d63a-076c-4368-fed5-635bd93b6ab6"
      },
      "outputs": [
        {
          "data": {
            "image/png": "[encoded data removed]",
            "text/plain": [
              "<Figure size 640x480 with 1 Axes>"
            ]
          },
          "metadata": {},
          "output_type": "display_data"
        }
      ],
      "source": [
        "# fitted p.d.f.:\n",
        "y = (fitted_mus/nhist*scales*gauss(x, mu, sigma)+(nhist-fitted_mus)/nhist*scaleb*decay(x, tau))\n",
        "ys = (fitted_mus/nhist*scales*gauss(x, mu, sigma))\n",
        "yb = ((nhist-fitted_mus)/nhist*scaleb*decay(x, tau))\n",
        "\n",
        "fig, ax = plt.subplots()\n",
        "\n",
        "ax.plot(rndy, np.zeros(rndy.shape), 'b+', ms=30, label=\"raw data\")  # rug plot\n",
        "ax.hist(rndy, bins=nbins, range=(0.0, xrange), fill=False, color='green', label=\"histogram\")  # histogram\n",
        "\n",
        "ax.plot(x, nhist*xrange*(1/nbins)*ys, 'r', linewidth=2, linestyle='--', label=\"Sig p.d.f.\")\n",
        "ax.plot(x, nhist*xrange*(1/nbins)*yb, 'b', linewidth=2, linestyle='--', label=\"Bkg p.d.f.\")\n",
        "ax.plot(x, nhist*xrange*(1/nbins)*y, 'r', alpha=0.5, linewidth=2, linestyle='-', label=\"Fitted p.d.f.\")\n",
        "#ax.set_ylim(bottom=0)\n",
        "\n",
        "fig.text(0.70, 0.53, 'LS fit', fontsize=14)\n",
        "fig.text(0.70, 0.48, '%d events'%nhist, fontsize=14)\n",
        "fig.text(0.25, 0.80, '$N_S$ = %2.2f +%2.2f -%2.2f'%(fitted_mus,sigma_pos-fitted_mus,fitted_mus-sigma_neg), fontsize=14)\n",
        "#fig.text(0.25, 0.80, '$N_S$ = %2.2f'%(fitted_mus), fontsize=14)\n",
        "\n",
        "ax.spines['right'].set_visible(False)\n",
        "ax.spines['top'].set_visible(False)\n",
        "ax.xaxis.set_ticks_position('bottom')\n",
        "\n",
        "ax.legend(loc=1, fontsize=10)\n",
        "\n",
        "ax.set_xlabel('x')\n",
        "ax.set_ylabel('entries')\n",
        "\n",
        "plt.show()"
      ]
    },
    {
      "cell_type": "code",
      "execution_count": null,
      "metadata": {
        "id": "SjxkTKu3MWL0"
      },
      "outputs": [],
      "source": []
    }
  ],
  "metadata": {
    "colab": {
      "authorship_tag": "ABX9TyMBeg3ma03QhlQhkCWpvnHd",
      "include_colab_link": true,
      "name": "LS_fit_template.ipynb",
      "provenance": []
    },
    "kernelspec": {
      "display_name": "Python 3",
      "name": "python3"
    },
    "language_info": {
      "codemirror_mode": {
        "name": "ipython",
        "version": 3
      },
      "file_extension": ".py",
      "mimetype": "text/x-python",
      "name": "python",
      "nbconvert_exporter": "python",
      "pygments_lexer": "ipython3",
      "version": "3.13.1"
    }
  },
  "nbformat": 4,
  "nbformat_minor": 0
}
