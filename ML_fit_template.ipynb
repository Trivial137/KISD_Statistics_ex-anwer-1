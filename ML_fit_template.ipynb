{
  "nbformat": 4,
  "nbformat_minor": 0,
  "metadata": {
    "colab": {
      "name": "ML_fit_template.ipynb",
      "provenance": [],
      "authorship_tag": "ABX9TyMwe73QH8+YbqU1VWkgNe7G",
      "include_colab_link": true
    },
    "kernelspec": {
      "name": "python3",
      "display_name": "Python 3"
    }
  },
  "cells": [
    {
      "cell_type": "markdown",
      "metadata": {
        "id": "view-in-github",
        "colab_type": "text"
      },
      "source": [
        "<a href=\"https://colab.research.google.com/github/bruckman/KISD_Statistics_ex-1/blob/master/ML_fit_template.ipynb\" target=\"_parent\"><img src=\"https://colab.research.google.com/assets/colab-badge.svg\" alt=\"Open In Colab\"/></a>"
      ]
    },
    {
      "cell_type": "code",
      "metadata": {
        "id": "rvV925jhu5fO"
      },
      "source": [
        "import numpy as np\n",
        "from matplotlib import pyplot as plt\n",
        "from matplotlib import collections as collections\n",
        "from scipy import stats\n",
        "from scipy import special\n",
        "from scipy import integrate\n",
        "from scipy import optimize\n",
        "\n",
        "#  Template for the ML fit to data\n"
      ],
      "execution_count": 1,
      "outputs": []
    },
    {
      "cell_type": "code",
      "metadata": {
        "id": "VokZjs8zvJWN"
      },
      "source": [
        "def gauss(x, mu, sigma):\n",
        "    return 1/(np.sqrt(2*np.pi)*sigma) * np.exp(-(x-mu)*(x-mu)/(2*sigma*sigma))\n",
        "\n",
        "\n",
        "def decay(x, tau):\n",
        "    return np.exp(-x/tau) / tau\n",
        "\n"
      ],
      "execution_count": 2,
      "outputs": []
    },
    {
      "cell_type": "code",
      "metadata": {
        "id": "oMumx2B_vN2b"
      },
      "source": [
        "def logL(mus, data, xmin=0, xmax=99, tau0=5.0, mu0=10.0, sigma0=3.0):\n",
        "    #\n",
        "    # here your lines of code are needed to replace the dummy one below\n",
        "    #      ___\n",
        "    #     /   \\\n",
        "    #         |\n",
        "    #        /\n",
        "    #       /\n",
        "    #       \n",
        "    #       *\n",
        "    #\n",
        "    temp_ll = 0.005*(mus-10)*(mus-10)+10\n",
        "    return temp_ll\n",
        "\n"
      ],
      "execution_count": 3,
      "outputs": []
    },
    {
      "cell_type": "code",
      "metadata": {
        "id": "1SuMOBoDvXev"
      },
      "source": [
        "# Define known constants\n",
        "tau = 5.0\n",
        "mu = 10.0\n",
        "sigma = 3.0\n",
        "\n",
        "# Define some auxiliary parameters \n",
        "plow = 0.0\n",
        "phig = 40.0\n",
        "ndistr = 1000\n",
        "\n",
        "# Deafine the histogram\n",
        "nbins = 10\n",
        "xrange = 30\n",
        "\n",
        "\n",
        "x = np.linspace(0, xrange, ndistr)\n",
        "\n",
        "# Load the raw data from file:\n",
        "rndy = np.load(\"raw_data_1_tau5.npy\")\n",
        "nhist = len(rndy)\n",
        "\n"
      ],
      "execution_count": 4,
      "outputs": []
    },
    {
      "cell_type": "code",
      "metadata": {
        "id": "rngburH6vjaf"
      },
      "source": [
        "# Find the p.d.f. normalisation factors for the considered interval (0, xrange) \n",
        "integrals = integrate.quad(gauss, 0, xrange, args=(mu, sigma))\n",
        "#print('integrals = ', integrals[0])\n",
        "scales = 1/integrals[0]\n",
        "integralb = integrate.quad(decay, 0, xrange, args=(tau,))\n",
        "#print('integralb = ', integralb[0])\n",
        "scaleb = 1/integralb[0]\n",
        "\n",
        "# Histogram the raw data\n",
        "hy, binsy = np.histogram(rndy, bins=nbins, range=(0.0, xrange) )\n"
      ],
      "execution_count": 5,
      "outputs": []
    },
    {
      "cell_type": "code",
      "metadata": {
        "id": "1-IgVSe5vrvE",
        "outputId": "11fcacad-8d4a-4cb0-f891-3f9a2a8d3396",
        "colab": {
          "base_uri": "https://localhost:8080/"
        }
      },
      "source": [
        "# Find the extremum of either logL or chi2\n",
        "in_guess = [0,]\n",
        "minimum = optimize.minimize(logL, in_guess, args=(rndy ,0.0, xrange, tau, mu, sigma))\n",
        "fitted_mus = minimum.x[0]\n",
        "print('extremum found for mus = ',fitted_mus)\n",
        "\n"
      ],
      "execution_count": 11,
      "outputs": [
        {
          "output_type": "stream",
          "text": [
            "extremum found for mus =  9.999993790639552\n"
          ],
          "name": "stdout"
        }
      ]
    },
    {
      "cell_type": "code",
      "metadata": {
        "id": "jSiVzA52vwaI",
        "outputId": "c53a1457-a214-499a-b05b-706a27680cdf",
        "colab": {
          "base_uri": "https://localhost:8080/"
        }
      },
      "source": [
        "# Set dummy uncertainties\n",
        "sigma_neg = fitted_mus-10\n",
        "sigma_pos = fitted_mus+10\n",
        "#  Estimate the error:\n",
        "pl = np.linspace(plow, phig, ndistr)\n",
        "ll_array = []\n",
        "for xx in pl:\n",
        "   ll_array.append(logL(xx, rndy, 0.0, xrange, tau, mu, sigma))\n",
        "#\n",
        "# here your lines of code are needed to find the fit standard deviation\n",
        "#      ___\n",
        "#     /   \\\n",
        "#         |\n",
        "#        /\n",
        "#       /\n",
        "#       \n",
        "#       *\n",
        "#\n",
        "print(\"-sigma = %2.3f,  +sigma = %2.3f\"%(sigma_neg, sigma_pos))\n",
        "\n"
      ],
      "execution_count": 9,
      "outputs": [
        {
          "output_type": "stream",
          "text": [
            "-sigma = -0.000,  +sigma = 20.000\n"
          ],
          "name": "stdout"
        }
      ]
    },
    {
      "cell_type": "code",
      "metadata": {
        "id": "DxpC9AEDDlOt",
        "colab": {
          "base_uri": "https://localhost:8080/",
          "height": 279
        },
        "outputId": "ea055b80-231e-485f-ae73-af63cae0763f"
      },
      "source": [
        "# fitted p.d.f.:\n",
        "y = (fitted_mus/nhist*scales*gauss(x, mu, sigma)+(nhist-fitted_mus)/nhist*scaleb*decay(x, tau))\n",
        "ys = (fitted_mus/nhist*scales*gauss(x, mu, sigma))\n",
        "yb = ((nhist-fitted_mus)/nhist*scaleb*decay(x, tau))\n",
        "\n",
        "fig, ax = plt.subplots()\n",
        "\n",
        "ax.plot(rndy, np.zeros(rndy.shape), 'b+', ms=30, label=\"raw data\")  # rug plot\n",
        "ax.hist(rndy, bins=nbins, range=(0.0, xrange), fill=False, color='green', label=\"histogram\")  # histogram\n",
        "\n",
        "ax.plot(x, nhist*xrange*(1/nbins)*ys, 'r', linewidth=2, linestyle='--', label=\"Sig p.d.f.\")\n",
        "ax.plot(x, nhist*xrange*(1/nbins)*yb, 'b', linewidth=2, linestyle='--', label=\"Bkg p.d.f.\")\n",
        "ax.plot(x, nhist*xrange*(1/nbins)*y, 'r', alpha=0.5, linewidth=2, linestyle='-', label=\"Fitted p.d.f.\")\n",
        "#ax.set_ylim(bottom=0)\n",
        "\n",
        "fig.text(0.70, 0.53, 'LS fit', fontsize=14)\n",
        "fig.text(0.70, 0.48, '%d events'%nhist, fontsize=14)\n",
        "fig.text(0.25, 0.80, '$N_S$ = %2.2f +%2.2f -%2.2f'%(fitted_mus,sigma_pos-fitted_mus,fitted_mus-sigma_neg), fontsize=14)\n",
        "#fig.text(0.25, 0.80, '$N_S$ = %2.2f'%(fitted_mus), fontsize=14)\n",
        "\n",
        "ax.spines['right'].set_visible(False)\n",
        "ax.spines['top'].set_visible(False)\n",
        "ax.xaxis.set_ticks_position('bottom')\n",
        "\n",
        "ax.legend(loc=1, fontsize=10)\n",
        "\n",
        "ax.set_xlabel('x')\n",
        "ax.set_ylabel('entries')\n",
        "\n",
        "plt.show()"
      ],
      "execution_count": 10,
      "outputs": [
        {
          "output_type": "display_data",
          "data": {
            "image/png": "[encoded data removed]",
            "text/plain": [
              "<Figure size 432x288 with 1 Axes>"
            ]
          },
          "metadata": {
            "tags": [],
            "needs_background": "light"
          }
        }
      ]
    }
  ]
}